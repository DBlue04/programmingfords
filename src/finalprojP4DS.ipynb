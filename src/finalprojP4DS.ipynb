## __VNU HCM - University of Science__

## __Final Project - Programming for Data Science - 21KHDL1__
---
## Group ID: 6
## Member

|Name|Student ID|
|---|---|
|Doãn Anh Khoa|21127076|
|Nguyễn Đức Tuấn Đạt|21127590|

## __Table of Contents__

1. [Import neccessary libraries](#1)

2. [Data Collection](#2)

   2.1. [What subject is the data about? What is the source of the data?](#21)
   
   2.2. [Do authors of this data allow us to use like this?](#22)
   
   2.3. [How did authors collect data?](#23)
   
3. [Data Exploring](#3)

   3.1. [How many rows and how many columns?](#31)
   
   3.2. [What is the meaning of each row?](#32)
   
   3.3. [What is the meaning of each column?](#33)

   3.4. [What  is  the  current  data  type  of  each  column?  Are  there columns having inappropriate data types?](#34) 

   3.5. [With each numerical column, how are values distributed?](#35)

   3.6. [With each categorical column, how are values distributed?](#36)     
4. [Question proposing & Answering](#4)

   4.1. [Question 1](#41)   

   4.2. [Question 2](#42)

   4.3. [Question 3](#43)  
    
   4.4. [Question 4](#44) 
5. [Reflection](#5)
6. [Preferences](#6)