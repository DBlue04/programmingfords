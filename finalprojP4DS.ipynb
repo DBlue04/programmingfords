{
 "cells": [
  {
   "cell_type": "markdown",
   "metadata": {},
   "source": [
    "## VNU HCM - University of Science\n",
    "\n",
    "## Final Project - Programming for Data Science - 21KHDL1\n",
    "---\n",
    "## Group ID: 6\n",
    "## Member\n",
    "\n",
    "|Name|Student ID|\n",
    "|---|---|\n",
    "|Doãn Anh Khoa|21127076|\n",
    "|Nguyễn Đức Tuấn Đạt|21127590|\n",
    "\n",
    "## Table of Contents\n",
    "\n",
    "1. [Import neccessary libraries](#1)\n",
    "\n",
    "2. [Data Collection](#2)\n",
    "\n",
    "   2.1. [What subject is the data about? What is the source of the data?](#21)\n",
    "   \n",
    "   2.2. [Do authors of this data allow us to use like this?](#22)\n",
    "   \n",
    "   2.3. [How did authors collect data?](#23)\n",
    "   \n",
    "3. [Data Exploring](#3)\n",
    "\n",
    "   3.1. [What subject is the data about? What is the source of the data?](#31)\n",
    "   \n",
    "   3.2. [What is the meaning of each row?](#32)\n",
    "   \n",
    "   3.3. [What is the meaning of each column?](#33)\n",
    "\n",
    "   3.4. [What  is  the  current  data  type  of  each  column?  Are  there columns having inappropriate data types?](#34) \n",
    "\n",
    "   3.5. [With each numerical column, how are values distributed?](#35)\n",
    "\n",
    "   3.6. [With each categorical column, how are values distributed?](#36)     \n",
    "4. [Question proposing & Answering](#4)\n",
    "\n",
    "   4.1. [Question 1](#41)   \n",
    "\n",
    "   4.2. [Question 2](#42)\n",
    "\n",
    "   4.3. [Question 3](#43)   \n",
    "5. [References](#5)"
   ]
  },
  {
   "cell_type": "markdown",
   "metadata": {},
   "source": [
    "### ___1. Import neccessary libraries___  <a id=\"20\"></a>\n",
    "\n",
    "---"
   ]
  },
  {
   "cell_type": "code",
   "execution_count": null,
   "metadata": {},
   "outputs": [],
   "source": [
    "import numpy as np\n",
    "import pandas as pd\n",
    "import matplotlib.pyplot as plt "
   ]
  },
  {
   "cell_type": "markdown",
   "metadata": {},
   "source": [
    "### ___2. Data Collection___  <a id=\"2\"></a>\n",
    "\n",
    "---"
   ]
  },
  {
   "cell_type": "markdown",
   "metadata": {},
   "source": [
    "#### 2.1. What subject is the data about? What is the source of the data? <a id=\"21\"></a>\n",
    "- Our data is about airline customer satisfaction. An airline organization gives this data. The company's actual name is not given due to various purposes, so the name is Invistico Airlines. The insights allow the airline to determine whether they are improving their service with customer expectations.\n",
    "- The dataset consists of the details of customers who have already flown with them. The customers' feedback on various contexts and flight data has been consolidated.\n",
    "- The source of our data is [Airlines Customer satisfaction](https://www.kaggle.com/datasets/sjleshrac/airlines-customer-satisfaction/data)"
   ]
  },
  {
   "cell_type": "markdown",
   "metadata": {},
   "source": [
    "#### 2.2. Do authors of this data allow us to use like this? <a id=\"22\"></a>\n",
    "- According to the data license: [CC0: Public Domain](https://creativecommons.org/publicdomain/zero/1.0/).\n",
    "    - The person who associated a work with this deed has dedicated the work to the public domain by waiving all of his or her rights to the work worldwide under copyright law, including all related and neighboring rights, to the extent allowed by law.\n",
    "    - You can copy, modify, distribute, and perform the work, even for commercial purposes, all without asking permission."
   ]
  },
  {
   "cell_type": "markdown",
   "metadata": {},
   "source": [
    "#### 2.3. How did authors collect data? <a id=\"23\"></a>\n",
    "- One of the most common and direct ways to measure customer satisfaction is to ask the customers themselves.\n",
    "- The authors conduct surveys and feedback forms online, on board, at the airport, or after the flight. They can cover various aspects of the customer experience, such as booking, check-in, boarding, in-flight service, baggage handling, and overall satisfaction."
   ]
  },
  {
   "cell_type": "markdown",
   "metadata": {},
   "source": [
    "### ___3. Data exploring___ <a id=\"3\"></a>\n",
    "\n",
    "---"
   ]
  },
  {
   "cell_type": "code",
   "execution_count": null,
   "metadata": {},
   "outputs": [],
   "source": [
    "airline_df = pd.read_csv(\"Data/Invistico_Airline.csv\")"
   ]
  },
  {
   "cell_type": "markdown",
   "metadata": {},
   "source": [
    "#### 3.1. How many rows and how many columns? <a id=\"31\"></a>"
   ]
  },
  {
   "cell_type": "code",
   "execution_count": null,
   "metadata": {},
   "outputs": [
    {
     "data": {
      "text/plain": [
       "(129880, 23)"
      ]
     },
     "metadata": {},
     "output_type": "display_data"
    }
   ],
   "source": [
    "airline_df.shape"
   ]
  },
  {
   "cell_type": "markdown",
   "metadata": {},
   "source": [
    "#### 3.2. What is the meaning of each row? <a id=\"32\"></a>"
   ]
  },
  {
   "cell_type": "code",
   "execution_count": null,
   "metadata": {},
   "outputs": [
    {
     "data": {
      "text/html": [
       "<div>\n",
       "<style scoped>\n",
       "    .dataframe tbody tr th:only-of-type {\n",
       "        vertical-align: middle;\n",
       "    }\n",
       "\n",
       "    .dataframe tbody tr th {\n",
       "        vertical-align: top;\n",
       "    }\n",
       "\n",
       "    .dataframe thead th {\n",
       "        text-align: right;\n",
       "    }\n",
       "</style>\n",
       "<table border=\"1\" class=\"dataframe\">\n",
       "  <thead>\n",
       "    <tr style=\"text-align: right;\">\n",
       "      <th></th>\n",
       "      <th>satisfaction</th>\n",
       "      <th>Gender</th>\n",
       "      <th>Customer Type</th>\n",
       "      <th>Age</th>\n",
       "      <th>Type of Travel</th>\n",
       "      <th>Class</th>\n",
       "      <th>Flight Distance</th>\n",
       "      <th>Seat comfort</th>\n",
       "      <th>Departure/Arrival time convenient</th>\n",
       "      <th>Food and drink</th>\n",
       "      <th>...</th>\n",
       "      <th>Online support</th>\n",
       "      <th>Ease of Online booking</th>\n",
       "      <th>On-board service</th>\n",
       "      <th>Leg room service</th>\n",
       "      <th>Baggage handling</th>\n",
       "      <th>Checkin service</th>\n",
       "      <th>Cleanliness</th>\n",
       "      <th>Online boarding</th>\n",
       "      <th>Departure Delay in Minutes</th>\n",
       "      <th>Arrival Delay in Minutes</th>\n",
       "    </tr>\n",
       "  </thead>\n",
       "  <tbody>\n",
       "    <tr>\n",
       "      <th>45302</th>\n",
       "      <td>dissatisfied</td>\n",
       "      <td>Male</td>\n",
       "      <td>disloyal Customer</td>\n",
       "      <td>27</td>\n",
       "      <td>Business travel</td>\n",
       "      <td>Business</td>\n",
       "      <td>1359</td>\n",
       "      <td>2</td>\n",
       "      <td>1</td>\n",
       "      <td>1</td>\n",
       "      <td>...</td>\n",
       "      <td>2</td>\n",
       "      <td>2</td>\n",
       "      <td>5</td>\n",
       "      <td>4</td>\n",
       "      <td>5</td>\n",
       "      <td>3</td>\n",
       "      <td>4</td>\n",
       "      <td>2</td>\n",
       "      <td>0</td>\n",
       "      <td>0.0</td>\n",
       "    </tr>\n",
       "    <tr>\n",
       "      <th>113917</th>\n",
       "      <td>satisfied</td>\n",
       "      <td>Female</td>\n",
       "      <td>Loyal Customer</td>\n",
       "      <td>30</td>\n",
       "      <td>Business travel</td>\n",
       "      <td>Business</td>\n",
       "      <td>4052</td>\n",
       "      <td>3</td>\n",
       "      <td>3</td>\n",
       "      <td>3</td>\n",
       "      <td>...</td>\n",
       "      <td>5</td>\n",
       "      <td>5</td>\n",
       "      <td>4</td>\n",
       "      <td>3</td>\n",
       "      <td>5</td>\n",
       "      <td>5</td>\n",
       "      <td>4</td>\n",
       "      <td>5</td>\n",
       "      <td>1</td>\n",
       "      <td>0.0</td>\n",
       "    </tr>\n",
       "    <tr>\n",
       "      <th>2816</th>\n",
       "      <td>satisfied</td>\n",
       "      <td>Female</td>\n",
       "      <td>Loyal Customer</td>\n",
       "      <td>18</td>\n",
       "      <td>Personal Travel</td>\n",
       "      <td>Eco</td>\n",
       "      <td>1619</td>\n",
       "      <td>5</td>\n",
       "      <td>4</td>\n",
       "      <td>5</td>\n",
       "      <td>...</td>\n",
       "      <td>5</td>\n",
       "      <td>3</td>\n",
       "      <td>4</td>\n",
       "      <td>2</td>\n",
       "      <td>4</td>\n",
       "      <td>3</td>\n",
       "      <td>4</td>\n",
       "      <td>3</td>\n",
       "      <td>30</td>\n",
       "      <td>19.0</td>\n",
       "    </tr>\n",
       "    <tr>\n",
       "      <th>126450</th>\n",
       "      <td>satisfied</td>\n",
       "      <td>Male</td>\n",
       "      <td>Loyal Customer</td>\n",
       "      <td>57</td>\n",
       "      <td>Business travel</td>\n",
       "      <td>Business</td>\n",
       "      <td>582</td>\n",
       "      <td>2</td>\n",
       "      <td>2</td>\n",
       "      <td>2</td>\n",
       "      <td>...</td>\n",
       "      <td>4</td>\n",
       "      <td>5</td>\n",
       "      <td>5</td>\n",
       "      <td>5</td>\n",
       "      <td>5</td>\n",
       "      <td>4</td>\n",
       "      <td>5</td>\n",
       "      <td>4</td>\n",
       "      <td>0</td>\n",
       "      <td>0.0</td>\n",
       "    </tr>\n",
       "    <tr>\n",
       "      <th>96515</th>\n",
       "      <td>satisfied</td>\n",
       "      <td>Female</td>\n",
       "      <td>Loyal Customer</td>\n",
       "      <td>48</td>\n",
       "      <td>Business travel</td>\n",
       "      <td>Business</td>\n",
       "      <td>243</td>\n",
       "      <td>5</td>\n",
       "      <td>5</td>\n",
       "      <td>5</td>\n",
       "      <td>...</td>\n",
       "      <td>5</td>\n",
       "      <td>4</td>\n",
       "      <td>4</td>\n",
       "      <td>4</td>\n",
       "      <td>4</td>\n",
       "      <td>4</td>\n",
       "      <td>4</td>\n",
       "      <td>3</td>\n",
       "      <td>5</td>\n",
       "      <td>15.0</td>\n",
       "    </tr>\n",
       "  </tbody>\n",
       "</table>\n",
       "<p>5 rows × 23 columns</p>\n",
       "</div>"
      ],
      "text/plain": [
       "        satisfaction  Gender      Customer Type  Age   Type of Travel  \\\n",
       "45302   dissatisfied    Male  disloyal Customer   27  Business travel   \n",
       "113917     satisfied  Female     Loyal Customer   30  Business travel   \n",
       "2816       satisfied  Female     Loyal Customer   18  Personal Travel   \n",
       "126450     satisfied    Male     Loyal Customer   57  Business travel   \n",
       "96515      satisfied  Female     Loyal Customer   48  Business travel   \n",
       "\n",
       "           Class  Flight Distance  Seat comfort  \\\n",
       "45302   Business             1359             2   \n",
       "113917  Business             4052             3   \n",
       "2816         Eco             1619             5   \n",
       "126450  Business              582             2   \n",
       "96515   Business              243             5   \n",
       "\n",
       "        Departure/Arrival time convenient  Food and drink  ...  \\\n",
       "45302                                   1               1  ...   \n",
       "113917                                  3               3  ...   \n",
       "2816                                    4               5  ...   \n",
       "126450                                  2               2  ...   \n",
       "96515                                   5               5  ...   \n",
       "\n",
       "        Online support  Ease of Online booking  On-board service  \\\n",
       "45302                2                       2                 5   \n",
       "113917               5                       5                 4   \n",
       "2816                 5                       3                 4   \n",
       "126450               4                       5                 5   \n",
       "96515                5                       4                 4   \n",
       "\n",
       "        Leg room service  Baggage handling  Checkin service  Cleanliness  \\\n",
       "45302                  4                 5                3            4   \n",
       "113917                 3                 5                5            4   \n",
       "2816                   2                 4                3            4   \n",
       "126450                 5                 5                4            5   \n",
       "96515                  4                 4                4            4   \n",
       "\n",
       "        Online boarding  Departure Delay in Minutes  Arrival Delay in Minutes  \n",
       "45302                 2                           0                       0.0  \n",
       "113917                5                           1                       0.0  \n",
       "2816                  3                          30                      19.0  \n",
       "126450                4                           0                       0.0  \n",
       "96515                 3                           5                      15.0  \n",
       "\n",
       "[5 rows x 23 columns]"
      ]
     },
     "metadata": {},
     "output_type": "display_data"
    }
   ],
   "source": [
    "airline_df.sample(5)"
   ]
  },
  {
   "cell_type": "markdown",
   "metadata": {},
   "source": [
    "- The meaning of each row is the survey result of each customer. \n",
    "- The survey result consists of:\n",
    "    - The personal information of each customer\n",
    "    - Overall satisfaction and satisfaction levels at various aspects of the customer experience, such as booking, check-in, boarding, in-flight service, baggage handling, and overall satisfaction."
   ]
  },
  {
   "cell_type": "markdown",
   "metadata": {},
   "source": [
    "##### 3.2.1. Are there duplicated rows? "
   ]
  },
  {
   "cell_type": "code",
   "execution_count": null,
   "metadata": {},
   "outputs": [
    {
     "data": {
      "text/plain": [
       "0"
      ]
     },
     "metadata": {},
     "output_type": "display_data"
    }
   ],
   "source": [
    "airline_df.duplicated().sum()"
   ]
  },
  {
   "cell_type": "markdown",
   "metadata": {},
   "source": [
    "The data do not seem to have duplicate row"
   ]
  },
  {
   "cell_type": "markdown",
   "metadata": {},
   "source": [
    "#### 3.3. What is the meaning of each column? <a id=\"33\"></a>"
   ]
  },
  {
   "cell_type": "code",
   "execution_count": null,
   "metadata": {},
   "outputs": [
    {
     "data": {
      "text/plain": [
       "Index(['satisfaction', 'Gender', 'Customer Type', 'Age', 'Type of Travel',\n",
       "       'Class', 'Flight Distance', 'Seat comfort',\n",
       "       'Departure/Arrival time convenient', 'Food and drink', 'Gate location',\n",
       "       'Inflight wifi service', 'Inflight entertainment', 'Online support',\n",
       "       'Ease of Online booking', 'On-board service', 'Leg room service',\n",
       "       'Baggage handling', 'Checkin service', 'Cleanliness', 'Online boarding',\n",
       "       'Departure Delay in Minutes', 'Arrival Delay in Minutes'],\n",
       "      dtype='object')"
      ]
     },
     "metadata": {},
     "output_type": "display_data"
    }
   ],
   "source": [
    "airline_df.columns"
   ]
  },
  {
   "cell_type": "markdown",
   "metadata": {},
   "source": [
    "| Column                            | Description                                                               |\n",
    "|-----------------------------------|---------------------------------------------------------------------------|\n",
    "| satisfaction                      | The overall satisfaction of the customer                                  |\n",
    "| Gender                            | The gender of the customer                                                |\n",
    "| Customer Type                     | The type of customer, whether it's a loyal or disloyal customer           |\n",
    "| Age                               | The age of the customer                                                   |\n",
    "| Type of Travel                    | The purpose of travel, such as business or personal                       |\n",
    "| Class                             | The travel class                                                          |\n",
    "| Flight Distance                   | The distance of the flight in miles                                       |\n",
    "| Seat Comfort                      | Rating for seat comfort provided during the flight (0: not rated; 1-5)    |\n",
    "| Departure/Arrival time convenient | Rating for the convenience of departure/arrival times (0: not rated; 1-5) |\n",
    "| Food and drink                    | Rating for the quality of food and drink on the flight (0: not rated; 1-5)|\n",
    "| Gate location                     | Rating for the gate location at the airport (0: not rated; 1-5)           |\n",
    "| Inflight wifi service             | Rating for the inflight WiFi service (0: not rated; 1-5)                  |\n",
    "| Inflight entertainment            | Rating for the inflight entertainment provided (0: not rated; 1-5)        |\n",
    "| Online support                    | Rating for the online support service (0: not rated; 1-5)                 |\n",
    "| Ease of Online booking            | Rating for the ease of online booking (0: not rated; 1-5)                 |\n",
    "| On-board service                  | Rating for on-board service (0: not rated; 1-5)                           |\n",
    "| Leg room service                  | Rating for leg room service (0: not rated; 1-5)                           |\n",
    "| Baggage handling                  | Rating for baggage handling (0: not rated; 1-5)                           |\n",
    "| Checkin service                   | Rating for the check-in service (0: not rated; 1-5)                       |\n",
    "| Cleanliness                       | Rating for the cleanliness of the flight (0: not rated; 1-5)              |\n",
    "| Online boarding                   | Rating for the online boarding process (0: not rated; 1-5)                |\n",
    "| Departure Delay in Minutes        | The delay in departure time in minutes                                    |\n",
    "| Arrival Delay in Minutes          | The delay in arrival time in minutes                                      |"
   ]
  },
  {
   "cell_type": "markdown",
   "metadata": {},
   "source": [
    "#### 3.4. What  is  the  current  data  type  of  each  column?  Are  there columns having inappropriate data types? <a id=\"34\"></a>\n"
   ]
  },
  {
   "cell_type": "code",
   "execution_count": null,
   "metadata": {},
   "outputs": [
    {
     "name": "stdout",
     "output_type": "stream",
     "text": [
      "<class 'pandas.core.frame.DataFrame'>\n",
      "RangeIndex: 129880 entries, 0 to 129879\n",
      "Data columns (total 23 columns):\n",
      " #   Column                             Non-Null Count   Dtype  \n",
      "---  ------                             --------------   -----  \n",
      " 0   satisfaction                       129880 non-null  object \n",
      " 1   Gender                             129880 non-null  object \n",
      " 2   Customer Type                      129880 non-null  object \n",
      " 3   Age                                129880 non-null  int64  \n",
      " 4   Type of Travel                     129880 non-null  object \n",
      " 5   Class                              129880 non-null  object \n",
      " 6   Flight Distance                    129880 non-null  int64  \n",
      " 7   Seat comfort                       129880 non-null  int64  \n",
      " 8   Departure/Arrival time convenient  129880 non-null  int64  \n",
      " 9   Food and drink                     129880 non-null  int64  \n",
      " 10  Gate location                      129880 non-null  int64  \n",
      " 11  Inflight wifi service              129880 non-null  int64  \n",
      " 12  Inflight entertainment             129880 non-null  int64  \n",
      " 13  Online support                     129880 non-null  int64  \n",
      " 14  Ease of Online booking             129880 non-null  int64  \n",
      " 15  On-board service                   129880 non-null  int64  \n",
      " 16  Leg room service                   129880 non-null  int64  \n",
      " 17  Baggage handling                   129880 non-null  int64  \n",
      " 18  Checkin service                    129880 non-null  int64  \n",
      " 19  Cleanliness                        129880 non-null  int64  \n",
      " 20  Online boarding                    129880 non-null  int64  \n",
      " 21  Departure Delay in Minutes         129880 non-null  int64  \n",
      " 22  Arrival Delay in Minutes           129487 non-null  float64\n",
      "dtypes: float64(1), int64(17), object(5)\n",
      "memory usage: 22.8+ MB\n"
     ]
    }
   ],
   "source": [
    "airline_df.info()"
   ]
  },
  {
   "cell_type": "markdown",
   "metadata": {},
   "source": [
    "There seems to be no column having an inappropriate data type."
   ]
  },
  {
   "cell_type": "markdown",
   "metadata": {},
   "source": [
    "#### 3.5. With each numerical column, how are values distributed? <a id=\"35\"></a>\n"
   ]
  },
  {
   "cell_type": "markdown",
   "metadata": {},
   "source": [
    "##### 3.5.1. The percentage of missing values"
   ]
  },
  {
   "cell_type": "code",
   "execution_count": null,
   "metadata": {},
   "outputs": [
    {
     "name": "stdout",
     "output_type": "stream",
     "text": [
      "The percentage of missing values\n",
      "Age                           0.000000\n",
      "Flight Distance               0.000000\n",
      "Departure Delay in Minutes    0.000000\n",
      "Arrival Delay in Minutes      0.302587\n",
      "dtype: float64\n"
     ]
    }
   ],
   "source": [
    "numerical_list = ['Age', 'Flight Distance','Departure Delay in Minutes','Arrival Delay in Minutes']\n",
    "numerical_df = airline_df[numerical_list]\n",
    "\n",
    "missing_ratio = numerical_df.isna().mean(axis=0) * 100\n",
    "print ('The percentage of missing values')\n",
    "print (missing_ratio)"
   ]
  },
  {
   "cell_type": "markdown",
   "metadata": {},
   "source": [
    "The Arrival Delay in Minutes column seems to have a few missing values. The percentage of the missing values is meager (less than 1%), so when answering questions related to Arrival Delay in Minutes, we can process them by removing each row with the missing value in this column."
   ]
  },
  {
   "cell_type": "markdown",
   "metadata": {},
   "source": [
    "##### 3.5.2. The distribution of every numerical column"
   ]
  },
  {
   "cell_type": "code",
   "execution_count": null,
   "metadata": {},
   "outputs": [
    {
     "data": {
      "text/html": [
       "<div>\n",
       "<style scoped>\n",
       "    .dataframe tbody tr th:only-of-type {\n",
       "        vertical-align: middle;\n",
       "    }\n",
       "\n",
       "    .dataframe tbody tr th {\n",
       "        vertical-align: top;\n",
       "    }\n",
       "\n",
       "    .dataframe thead th {\n",
       "        text-align: right;\n",
       "    }\n",
       "</style>\n",
       "<table border=\"1\" class=\"dataframe\">\n",
       "  <thead>\n",
       "    <tr style=\"text-align: right;\">\n",
       "      <th></th>\n",
       "      <th>Age</th>\n",
       "      <th>Flight Distance</th>\n",
       "      <th>Departure Delay in Minutes</th>\n",
       "      <th>Arrival Delay in Minutes</th>\n",
       "    </tr>\n",
       "  </thead>\n",
       "  <tbody>\n",
       "    <tr>\n",
       "      <th>count</th>\n",
       "      <td>129880.000000</td>\n",
       "      <td>129880.000000</td>\n",
       "      <td>129880.000000</td>\n",
       "      <td>129487.000000</td>\n",
       "    </tr>\n",
       "    <tr>\n",
       "      <th>mean</th>\n",
       "      <td>39.427957</td>\n",
       "      <td>1981.409055</td>\n",
       "      <td>14.713713</td>\n",
       "      <td>15.091129</td>\n",
       "    </tr>\n",
       "    <tr>\n",
       "      <th>std</th>\n",
       "      <td>15.119360</td>\n",
       "      <td>1027.115606</td>\n",
       "      <td>38.071126</td>\n",
       "      <td>38.465650</td>\n",
       "    </tr>\n",
       "    <tr>\n",
       "      <th>min</th>\n",
       "      <td>7.000000</td>\n",
       "      <td>50.000000</td>\n",
       "      <td>0.000000</td>\n",
       "      <td>0.000000</td>\n",
       "    </tr>\n",
       "    <tr>\n",
       "      <th>25%</th>\n",
       "      <td>27.000000</td>\n",
       "      <td>1359.000000</td>\n",
       "      <td>0.000000</td>\n",
       "      <td>0.000000</td>\n",
       "    </tr>\n",
       "    <tr>\n",
       "      <th>50%</th>\n",
       "      <td>40.000000</td>\n",
       "      <td>1925.000000</td>\n",
       "      <td>0.000000</td>\n",
       "      <td>0.000000</td>\n",
       "    </tr>\n",
       "    <tr>\n",
       "      <th>75%</th>\n",
       "      <td>51.000000</td>\n",
       "      <td>2544.000000</td>\n",
       "      <td>12.000000</td>\n",
       "      <td>13.000000</td>\n",
       "    </tr>\n",
       "    <tr>\n",
       "      <th>max</th>\n",
       "      <td>85.000000</td>\n",
       "      <td>6951.000000</td>\n",
       "      <td>1592.000000</td>\n",
       "      <td>1584.000000</td>\n",
       "    </tr>\n",
       "  </tbody>\n",
       "</table>\n",
       "</div>"
      ],
      "text/plain": [
       "                 Age  Flight Distance  Departure Delay in Minutes  \\\n",
       "count  129880.000000    129880.000000               129880.000000   \n",
       "mean       39.427957      1981.409055                   14.713713   \n",
       "std        15.119360      1027.115606                   38.071126   \n",
       "min         7.000000        50.000000                    0.000000   \n",
       "25%        27.000000      1359.000000                    0.000000   \n",
       "50%        40.000000      1925.000000                    0.000000   \n",
       "75%        51.000000      2544.000000                   12.000000   \n",
       "max        85.000000      6951.000000                 1592.000000   \n",
       "\n",
       "       Arrival Delay in Minutes  \n",
       "count             129487.000000  \n",
       "mean                  15.091129  \n",
       "std                   38.465650  \n",
       "min                    0.000000  \n",
       "25%                    0.000000  \n",
       "50%                    0.000000  \n",
       "75%                   13.000000  \n",
       "max                 1584.000000  "
      ]
     },
     "metadata": {},
     "output_type": "display_data"
    }
   ],
   "source": [
    "distribution_numerical_df = numerical_df.describe()\n",
    "distribution_numerical_df"
   ]
  },
  {
   "cell_type": "markdown",
   "metadata": {},
   "source": [
    "##### 3.5.3. Visualization"
   ]
  },
  {
   "cell_type": "code",
   "execution_count": null,
   "metadata": {},
   "outputs": [
    {
     "data": {
      "image/png": "[encoded data removed]",
      "text/plain": [
       "<Figure size 2000x2000 with 25 Axes>"
      ]
     },
     "metadata": {},
     "output_type": "display_data"
    }
   ],
   "source": [
    "numerical_df.plot(kind='density', subplots=True, layout=(5, 5), figsize=(20, 20),sharex=False)\n",
    "plt.subplots_adjust(wspace=0.5, hspace=0.5)\n",
    "plt.show()"
   ]
  },
  {
   "cell_type": "markdown",
   "metadata": {},
   "source": [
    "#### 3.6. With each categorical column, how are values distributed? <a id=\"36\"></a>\n"
   ]
  },
  {
   "cell_type": "markdown",
   "metadata": {},
   "source": [
    "##### 3.6.1. The percentage of missing value"
   ]
  },
  {
   "cell_type": "code",
   "execution_count": null,
   "metadata": {},
   "outputs": [
    {
     "name": "stdout",
     "output_type": "stream",
     "text": [
      "The percentage of missing values\n",
      "satisfaction                         0.0\n",
      "Gender                               0.0\n",
      "Customer Type                        0.0\n",
      "Type of Travel                       0.0\n",
      "Class                                0.0\n",
      "Seat comfort                         0.0\n",
      "Departure/Arrival time convenient    0.0\n",
      "Food and drink                       0.0\n",
      "Gate location                        0.0\n",
      "Inflight wifi service                0.0\n",
      "Inflight entertainment               0.0\n",
      "Online support                       0.0\n",
      "Ease of Online booking               0.0\n",
      "On-board service                     0.0\n",
      "Leg room service                     0.0\n",
      "Baggage handling                     0.0\n",
      "Checkin service                      0.0\n",
      "Cleanliness                          0.0\n",
      "Online boarding                      0.0\n",
      "dtype: float64\n"
     ]
    }
   ],
   "source": [
    "categorical_list = airline_df.columns\n",
    "categorical_list = categorical_list[~categorical_list.isin(numerical_df)]\n",
    "categorical_df = airline_df[categorical_list]\n",
    "\n",
    "missing_ratio = categorical_df.isna().mean(axis=0) * 100\n",
    "print ('The percentage of missing values')\n",
    "print (missing_ratio)"
   ]
  },
  {
   "cell_type": "markdown",
   "metadata": {},
   "source": [
    "##### 3.6.2. How many different values? Show a few"
   ]
  },
  {
   "cell_type": "markdown",
   "metadata": {},
   "source": [
    "__The number of different values__"
   ]
  },
  {
   "cell_type": "code",
   "execution_count": null,
   "metadata": {},
   "outputs": [
    {
     "name": "stdout",
     "output_type": "stream",
     "text": [
      "The number of different values in each column\n",
      "satisfaction                         2\n",
      "Gender                               2\n",
      "Customer Type                        2\n",
      "Type of Travel                       2\n",
      "Class                                3\n",
      "Seat comfort                         6\n",
      "Departure/Arrival time convenient    6\n",
      "Food and drink                       6\n",
      "Gate location                        6\n",
      "Inflight wifi service                6\n",
      "Inflight entertainment               6\n",
      "Online support                       6\n",
      "Ease of Online booking               6\n",
      "On-board service                     6\n",
      "Leg room service                     6\n",
      "Baggage handling                     5\n",
      "Checkin service                      6\n",
      "Cleanliness                          6\n",
      "Online boarding                      6\n",
      "dtype: int64\n"
     ]
    }
   ],
   "source": [
    "print('The number of different values in each column')\n",
    "print(categorical_df.nunique())"
   ]
  },
  {
   "cell_type": "markdown",
   "metadata": {},
   "source": [
    "__Show a few column__"
   ]
  },
  {
   "cell_type": "code",
   "execution_count": null,
   "metadata": {},
   "outputs": [
    {
     "data": {
      "text/plain": [
       "Class           Business              62160\n",
       "                Eco                   58309\n",
       "                Eco Plus               9411\n",
       "Customer Type   Loyal Customer       106100\n",
       "                disloyal Customer     23780\n",
       "Gender          Female                65899\n",
       "                Male                  63981\n",
       "Type of Travel  Business travel       89693\n",
       "                Personal Travel       40187\n",
       "satisfaction    satisfied             71087\n",
       "                dissatisfied          58793\n",
       "Name: count, dtype: int64"
      ]
     },
     "metadata": {},
     "output_type": "display_data"
    }
   ],
   "source": [
    "categorical_df.select_dtypes(include='object').stack().groupby(level=1).value_counts()"
   ]
  },
  {
   "cell_type": "markdown",
   "metadata": {},
   "source": [
    "##### 3.6.3. Visualization"
   ]
  },
  {
   "cell_type": "code",
   "execution_count": null,
   "metadata": {},
   "outputs": [
    {
     "data": {
      "image/png": "[encoded data removed]",
      "text/plain": [
       "<Figure size 1500x800 with 6 Axes>"
      ]
     },
     "metadata": {},
     "output_type": "display_data"
    }
   ],
   "source": [
    "categorical_columns = categorical_df.select_dtypes(include='object').columns\n",
    "# Set up subplots\n",
    "fig, axes = plt.subplots(nrows=(len(categorical_columns) % 3), ncols=3, figsize=(15,8))\n",
    "\n",
    "# Plot distribution for each categorical column\n",
    "for i, column in enumerate(categorical_columns):\n",
    "    index_row, index_col = int (i / 3), i % 3\n",
    "    categorical_df[column].value_counts().sort_index().plot(kind='bar', ax=axes[index_row, index_col])\n",
    "    axes[index_row, index_col].set_title(f'Distribution of Values in {column}')\n",
    "    axes[index_row, index_col].set_xlabel(column)\n",
    "    axes[index_row, index_col].set_ylabel('Count')\n",
    "    axes[index_row, index_col].tick_params(axis='x', rotation=0)\n",
    "\n",
    "# Adjust layout\n",
    "plt.tight_layout()\n",
    "plt.show()"
   ]
  },
  {
   "cell_type": "markdown",
   "metadata": {},
   "source": [
    "### ___4. Question proposing & Answering___  <a id=\"4\"></a>\n",
    "\n",
    "---"
   ]
  },
  {
   "cell_type": "code",
   "execution_count": null,
   "metadata": {},
   "outputs": [
    {
     "data": {
      "text/html": [
       "<div>\n",
       "<style scoped>\n",
       "    .dataframe tbody tr th:only-of-type {\n",
       "        vertical-align: middle;\n",
       "    }\n",
       "\n",
       "    .dataframe tbody tr th {\n",
       "        vertical-align: top;\n",
       "    }\n",
       "\n",
       "    .dataframe thead th {\n",
       "        text-align: right;\n",
       "    }\n",
       "</style>\n",
       "<table border=\"1\" class=\"dataframe\">\n",
       "  <thead>\n",
       "    <tr style=\"text-align: right;\">\n",
       "      <th></th>\n",
       "      <th>satisfaction</th>\n",
       "      <th>Gender</th>\n",
       "      <th>Customer Type</th>\n",
       "      <th>Age</th>\n",
       "      <th>Type of Travel</th>\n",
       "      <th>Class</th>\n",
       "      <th>Flight Distance</th>\n",
       "      <th>Seat comfort</th>\n",
       "      <th>Departure/Arrival time convenient</th>\n",
       "      <th>Food and drink</th>\n",
       "      <th>...</th>\n",
       "      <th>Online support</th>\n",
       "      <th>Ease of Online booking</th>\n",
       "      <th>On-board service</th>\n",
       "      <th>Leg room service</th>\n",
       "      <th>Baggage handling</th>\n",
       "      <th>Checkin service</th>\n",
       "      <th>Cleanliness</th>\n",
       "      <th>Online boarding</th>\n",
       "      <th>Departure Delay in Minutes</th>\n",
       "      <th>Arrival Delay in Minutes</th>\n",
       "    </tr>\n",
       "  </thead>\n",
       "  <tbody>\n",
       "    <tr>\n",
       "      <th>795</th>\n",
       "      <td>dissatisfied</td>\n",
       "      <td>Male</td>\n",
       "      <td>Loyal Customer</td>\n",
       "      <td>48</td>\n",
       "      <td>Personal Travel</td>\n",
       "      <td>Eco Plus</td>\n",
       "      <td>1201</td>\n",
       "      <td>1</td>\n",
       "      <td>0</td>\n",
       "      <td>0</td>\n",
       "      <td>...</td>\n",
       "      <td>5</td>\n",
       "      <td>5</td>\n",
       "      <td>5</td>\n",
       "      <td>5</td>\n",
       "      <td>4</td>\n",
       "      <td>4</td>\n",
       "      <td>5</td>\n",
       "      <td>5</td>\n",
       "      <td>0</td>\n",
       "      <td>0.0</td>\n",
       "    </tr>\n",
       "    <tr>\n",
       "      <th>799</th>\n",
       "      <td>dissatisfied</td>\n",
       "      <td>Male</td>\n",
       "      <td>Loyal Customer</td>\n",
       "      <td>30</td>\n",
       "      <td>Personal Travel</td>\n",
       "      <td>Eco</td>\n",
       "      <td>1582</td>\n",
       "      <td>1</td>\n",
       "      <td>0</td>\n",
       "      <td>0</td>\n",
       "      <td>...</td>\n",
       "      <td>1</td>\n",
       "      <td>1</td>\n",
       "      <td>2</td>\n",
       "      <td>4</td>\n",
       "      <td>3</td>\n",
       "      <td>5</td>\n",
       "      <td>1</td>\n",
       "      <td>1</td>\n",
       "      <td>0</td>\n",
       "      <td>2.0</td>\n",
       "    </tr>\n",
       "    <tr>\n",
       "      <th>803</th>\n",
       "      <td>dissatisfied</td>\n",
       "      <td>Male</td>\n",
       "      <td>Loyal Customer</td>\n",
       "      <td>19</td>\n",
       "      <td>Personal Travel</td>\n",
       "      <td>Eco</td>\n",
       "      <td>1737</td>\n",
       "      <td>1</td>\n",
       "      <td>0</td>\n",
       "      <td>0</td>\n",
       "      <td>...</td>\n",
       "      <td>1</td>\n",
       "      <td>1</td>\n",
       "      <td>4</td>\n",
       "      <td>4</td>\n",
       "      <td>5</td>\n",
       "      <td>3</td>\n",
       "      <td>5</td>\n",
       "      <td>1</td>\n",
       "      <td>0</td>\n",
       "      <td>0.0</td>\n",
       "    </tr>\n",
       "    <tr>\n",
       "      <th>804</th>\n",
       "      <td>dissatisfied</td>\n",
       "      <td>Male</td>\n",
       "      <td>Loyal Customer</td>\n",
       "      <td>13</td>\n",
       "      <td>Personal Travel</td>\n",
       "      <td>Eco</td>\n",
       "      <td>1351</td>\n",
       "      <td>1</td>\n",
       "      <td>0</td>\n",
       "      <td>0</td>\n",
       "      <td>...</td>\n",
       "      <td>5</td>\n",
       "      <td>5</td>\n",
       "      <td>5</td>\n",
       "      <td>2</td>\n",
       "      <td>5</td>\n",
       "      <td>4</td>\n",
       "      <td>4</td>\n",
       "      <td>5</td>\n",
       "      <td>4</td>\n",
       "      <td>2.0</td>\n",
       "    </tr>\n",
       "    <tr>\n",
       "      <th>805</th>\n",
       "      <td>dissatisfied</td>\n",
       "      <td>Male</td>\n",
       "      <td>Loyal Customer</td>\n",
       "      <td>31</td>\n",
       "      <td>Personal Travel</td>\n",
       "      <td>Eco</td>\n",
       "      <td>1109</td>\n",
       "      <td>1</td>\n",
       "      <td>0</td>\n",
       "      <td>0</td>\n",
       "      <td>...</td>\n",
       "      <td>4</td>\n",
       "      <td>4</td>\n",
       "      <td>3</td>\n",
       "      <td>3</td>\n",
       "      <td>4</td>\n",
       "      <td>3</td>\n",
       "      <td>4</td>\n",
       "      <td>4</td>\n",
       "      <td>0</td>\n",
       "      <td>0.0</td>\n",
       "    </tr>\n",
       "    <tr>\n",
       "      <th>...</th>\n",
       "      <td>...</td>\n",
       "      <td>...</td>\n",
       "      <td>...</td>\n",
       "      <td>...</td>\n",
       "      <td>...</td>\n",
       "      <td>...</td>\n",
       "      <td>...</td>\n",
       "      <td>...</td>\n",
       "      <td>...</td>\n",
       "      <td>...</td>\n",
       "      <td>...</td>\n",
       "      <td>...</td>\n",
       "      <td>...</td>\n",
       "      <td>...</td>\n",
       "      <td>...</td>\n",
       "      <td>...</td>\n",
       "      <td>...</td>\n",
       "      <td>...</td>\n",
       "      <td>...</td>\n",
       "      <td>...</td>\n",
       "      <td>...</td>\n",
       "    </tr>\n",
       "    <tr>\n",
       "      <th>129860</th>\n",
       "      <td>dissatisfied</td>\n",
       "      <td>Female</td>\n",
       "      <td>disloyal Customer</td>\n",
       "      <td>43</td>\n",
       "      <td>Personal Travel</td>\n",
       "      <td>Eco</td>\n",
       "      <td>2748</td>\n",
       "      <td>4</td>\n",
       "      <td>5</td>\n",
       "      <td>5</td>\n",
       "      <td>...</td>\n",
       "      <td>5</td>\n",
       "      <td>5</td>\n",
       "      <td>4</td>\n",
       "      <td>3</td>\n",
       "      <td>4</td>\n",
       "      <td>5</td>\n",
       "      <td>4</td>\n",
       "      <td>5</td>\n",
       "      <td>0</td>\n",
       "      <td>3.0</td>\n",
       "    </tr>\n",
       "    <tr>\n",
       "      <th>129876</th>\n",
       "      <td>dissatisfied</td>\n",
       "      <td>Male</td>\n",
       "      <td>disloyal Customer</td>\n",
       "      <td>63</td>\n",
       "      <td>Personal Travel</td>\n",
       "      <td>Business</td>\n",
       "      <td>2087</td>\n",
       "      <td>2</td>\n",
       "      <td>3</td>\n",
       "      <td>2</td>\n",
       "      <td>...</td>\n",
       "      <td>1</td>\n",
       "      <td>3</td>\n",
       "      <td>2</td>\n",
       "      <td>3</td>\n",
       "      <td>3</td>\n",
       "      <td>1</td>\n",
       "      <td>2</td>\n",
       "      <td>1</td>\n",
       "      <td>174</td>\n",
       "      <td>172.0</td>\n",
       "    </tr>\n",
       "    <tr>\n",
       "      <th>129877</th>\n",
       "      <td>dissatisfied</td>\n",
       "      <td>Male</td>\n",
       "      <td>disloyal Customer</td>\n",
       "      <td>69</td>\n",
       "      <td>Personal Travel</td>\n",
       "      <td>Eco</td>\n",
       "      <td>2320</td>\n",
       "      <td>3</td>\n",
       "      <td>0</td>\n",
       "      <td>3</td>\n",
       "      <td>...</td>\n",
       "      <td>2</td>\n",
       "      <td>4</td>\n",
       "      <td>4</td>\n",
       "      <td>3</td>\n",
       "      <td>4</td>\n",
       "      <td>2</td>\n",
       "      <td>3</td>\n",
       "      <td>2</td>\n",
       "      <td>155</td>\n",
       "      <td>163.0</td>\n",
       "    </tr>\n",
       "    <tr>\n",
       "      <th>129878</th>\n",
       "      <td>dissatisfied</td>\n",
       "      <td>Male</td>\n",
       "      <td>disloyal Customer</td>\n",
       "      <td>66</td>\n",
       "      <td>Personal Travel</td>\n",
       "      <td>Eco</td>\n",
       "      <td>2450</td>\n",
       "      <td>3</td>\n",
       "      <td>2</td>\n",
       "      <td>3</td>\n",
       "      <td>...</td>\n",
       "      <td>2</td>\n",
       "      <td>3</td>\n",
       "      <td>3</td>\n",
       "      <td>2</td>\n",
       "      <td>3</td>\n",
       "      <td>2</td>\n",
       "      <td>1</td>\n",
       "      <td>2</td>\n",
       "      <td>193</td>\n",
       "      <td>205.0</td>\n",
       "    </tr>\n",
       "    <tr>\n",
       "      <th>129879</th>\n",
       "      <td>dissatisfied</td>\n",
       "      <td>Female</td>\n",
       "      <td>disloyal Customer</td>\n",
       "      <td>38</td>\n",
       "      <td>Personal Travel</td>\n",
       "      <td>Eco</td>\n",
       "      <td>4307</td>\n",
       "      <td>3</td>\n",
       "      <td>4</td>\n",
       "      <td>3</td>\n",
       "      <td>...</td>\n",
       "      <td>3</td>\n",
       "      <td>4</td>\n",
       "      <td>5</td>\n",
       "      <td>5</td>\n",
       "      <td>5</td>\n",
       "      <td>3</td>\n",
       "      <td>3</td>\n",
       "      <td>3</td>\n",
       "      <td>185</td>\n",
       "      <td>186.0</td>\n",
       "    </tr>\n",
       "  </tbody>\n",
       "</table>\n",
       "<p>58793 rows × 23 columns</p>\n",
       "</div>"
      ],
      "text/plain": [
       "        satisfaction  Gender      Customer Type  Age   Type of Travel  \\\n",
       "795     dissatisfied    Male     Loyal Customer   48  Personal Travel   \n",
       "799     dissatisfied    Male     Loyal Customer   30  Personal Travel   \n",
       "803     dissatisfied    Male     Loyal Customer   19  Personal Travel   \n",
       "804     dissatisfied    Male     Loyal Customer   13  Personal Travel   \n",
       "805     dissatisfied    Male     Loyal Customer   31  Personal Travel   \n",
       "...              ...     ...                ...  ...              ...   \n",
       "129860  dissatisfied  Female  disloyal Customer   43  Personal Travel   \n",
       "129876  dissatisfied    Male  disloyal Customer   63  Personal Travel   \n",
       "129877  dissatisfied    Male  disloyal Customer   69  Personal Travel   \n",
       "129878  dissatisfied    Male  disloyal Customer   66  Personal Travel   \n",
       "129879  dissatisfied  Female  disloyal Customer   38  Personal Travel   \n",
       "\n",
       "           Class  Flight Distance  Seat comfort  \\\n",
       "795     Eco Plus             1201             1   \n",
       "799          Eco             1582             1   \n",
       "803          Eco             1737             1   \n",
       "804          Eco             1351             1   \n",
       "805          Eco             1109             1   \n",
       "...          ...              ...           ...   \n",
       "129860       Eco             2748             4   \n",
       "129876  Business             2087             2   \n",
       "129877       Eco             2320             3   \n",
       "129878       Eco             2450             3   \n",
       "129879       Eco             4307             3   \n",
       "\n",
       "        Departure/Arrival time convenient  Food and drink  ...  \\\n",
       "795                                     0               0  ...   \n",
       "799                                     0               0  ...   \n",
       "803                                     0               0  ...   \n",
       "804                                     0               0  ...   \n",
       "805                                     0               0  ...   \n",
       "...                                   ...             ...  ...   \n",
       "129860                                  5               5  ...   \n",
       "129876                                  3               2  ...   \n",
       "129877                                  0               3  ...   \n",
       "129878                                  2               3  ...   \n",
       "129879                                  4               3  ...   \n",
       "\n",
       "        Online support  Ease of Online booking  On-board service  \\\n",
       "795                  5                       5                 5   \n",
       "799                  1                       1                 2   \n",
       "803                  1                       1                 4   \n",
       "804                  5                       5                 5   \n",
       "805                  4                       4                 3   \n",
       "...                ...                     ...               ...   \n",
       "129860               5                       5                 4   \n",
       "129876               1                       3                 2   \n",
       "129877               2                       4                 4   \n",
       "129878               2                       3                 3   \n",
       "129879               3                       4                 5   \n",
       "\n",
       "        Leg room service  Baggage handling  Checkin service  Cleanliness  \\\n",
       "795                    5                 4                4            5   \n",
       "799                    4                 3                5            1   \n",
       "803                    4                 5                3            5   \n",
       "804                    2                 5                4            4   \n",
       "805                    3                 4                3            4   \n",
       "...                  ...               ...              ...          ...   \n",
       "129860                 3                 4                5            4   \n",
       "129876                 3                 3                1            2   \n",
       "129877                 3                 4                2            3   \n",
       "129878                 2                 3                2            1   \n",
       "129879                 5                 5                3            3   \n",
       "\n",
       "        Online boarding  Departure Delay in Minutes  Arrival Delay in Minutes  \n",
       "795                   5                           0                       0.0  \n",
       "799                   1                           0                       2.0  \n",
       "803                   1                           0                       0.0  \n",
       "804                   5                           4                       2.0  \n",
       "805                   4                           0                       0.0  \n",
       "...                 ...                         ...                       ...  \n",
       "129860                5                           0                       3.0  \n",
       "129876                1                         174                     172.0  \n",
       "129877                2                         155                     163.0  \n",
       "129878                2                         193                     205.0  \n",
       "129879                3                         185                     186.0  \n",
       "\n",
       "[58793 rows x 23 columns]"
      ]
     },
     "metadata": {},
     "output_type": "display_data"
    }
   ],
   "source": [
    "df = airline_df[airline_df['satisfaction'] == 'dissatisfied']\n",
    "#df['Class'].value_counts()"
   ]
  },
  {
   "cell_type": "markdown",
   "metadata": {},
   "source": [
    "#### Question ...: <a id=\"41\"></a>\n",
    "\n",
    "- What are benefits of  finding  the  answer?\n",
    "\n",
    "Note: Data preprocessing and data analysis\n",
    "\n",
    "- Questons are not  too  easy  to  answer (e.g., it’s too easy if we just need one line of code to get the answer). \n",
    "- Your group should focus more on the quality of questions than the quantity.\n",
    "For each question:\n",
    "- Does it need to have preprocessing step, and if yes, how does your group preprocess? \n",
    "    - Text:  sketch  steps  clearly  so  that  readers  can  understand how your group preprocesses even without reading code \n",
    "    - Code: implement sketched steps. Your group should also try to write code clearly (choose good variable names, comment where should be commented, don’t let a line too long) \n",
    "- How does your group analyze data to answer the question? \n",
    "\n",
    "    - Text: similar to above \n",
    "    - Code: similar to above "
   ]
  },
  {
   "cell_type": "markdown",
   "metadata": {},
   "source": [
    "#### Question 1: <a id=\"41\">In which type of travel do the customer types have a higher ratio?</a>\n",
    "\n",
    "- What are benefits of  finding  the  answer?\n",
    "> To determine which type of travel results in a higher customer retention rate. This will provide the airline with valuable insights into customer preferences.\n"
   ]
  },
  {
   "cell_type": "markdown",
   "metadata": {},
   "source": [
    "#### Question 2: <a id=\"42\">How does the class of travel (economy, business, first) affect the ratings for seat comfort?</a>\n",
    "\n",
    "\n",
    "- What are benefits of  finding  the  answer?\n",
    ">  Services can be customized for business or personal travelers if their satisfaction drivers are known."
   ]
  },
  {
   "cell_type": "markdown",
   "metadata": {},
   "source": [
    "#### Question 3: <a id=\"43\">Does the length of arrival delay affect the overall satisfaction differently for business and personal travelers?</a>\n",
    "\n",
    "\n",
    "- What are benefits of  finding  the  answer?\n",
    "> This can inform policies around compensation and customer service in the event of delays.\n"
   ]
  },
  {
   "cell_type": "markdown",
   "metadata": {},
   "source": [
    "#### Question 4: <a id=\"43\">How does customer satisfaction correlate with the age of the customer?</a>\n",
    "\n",
    "\n",
    "- What are benefits of  finding  the  answer?\n",
    "> Understanding preferences and expectations of different age groups can help tailor services to meet their specific needs.\n"
   ]
  },
  {
   "cell_type": "markdown",
   "metadata": {},
   "source": [
    "### ___5. References___ <a id=\"5\"></a>\n",
    "\n",
    "To  finish this project, what materials have you consulted?\n"
   ]
  }
 ],
 "metadata": {
  "kernelspec": {
   "display_name": "min_ds-env",
   "language": "python",
   "name": "python3"
  },
  "language_info": {
   "name": "python",
   "version": "3.11.6"
  }
 },
 "nbformat": 4,
 "nbformat_minor": 2
}
